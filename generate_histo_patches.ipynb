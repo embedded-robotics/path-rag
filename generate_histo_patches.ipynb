{
 "cells": [
  {
   "cell_type": "code",
   "execution_count": 1,
   "metadata": {},
   "outputs": [],
   "source": [
    "from PIL import Image\n",
    "import numpy as np\n",
    "import os"
   ]
  },
  {
   "cell_type": "code",
   "execution_count": 8,
   "metadata": {},
   "outputs": [],
   "source": [
    "data_path = \"arch\"\n",
    "\n",
    "# Extract the image data for PubMed dataset\n",
    "pubmed_path_images = os.path.join(data_path, \"pubmed_set\", \"images\")\n",
    "pubmed_img_uuid_list = os.listdir(pubmed_path_images)\n",
    "pubmed_img_uuid = [uuid.split('.')[0] for uuid in pubmed_img_uuid_list]\n",
    "pubmed_img_uuid_path = [os.path.join(pubmed_path_images, img_uuid) for img_uuid in pubmed_img_uuid_list]\n",
    "\n",
    "# # Extract the image data for Books dataset\n",
    "# books_path_images = os.path.join(data_path, \"books_set\", \"images\")\n",
    "# books_img_uuid = os.listdir(books_path_images)\n",
    "# books_img_uuid = [uuid.split('.')[0] for uuid in books_img_uuid]\n",
    "# books_img_uuid_path = [os.path.join(books_path_images, img_uuid + '.png') for img_uuid in books_img_uuid]"
   ]
  },
  {
   "cell_type": "code",
   "execution_count": 6,
   "metadata": {},
   "outputs": [
    {
     "name": "stdout",
     "output_type": "stream",
     "text": [
      "71\n"
     ]
    }
   ],
   "source": [
    "for i in range(len(pubmed_img_uuid)):\n",
    "    if pubmed_img_uuid[i] == 'a6fade92-c4ce-4eed-b8aa-795e85c4645e':\n",
    "        print(i)\n",
    "        break"
   ]
  },
  {
   "cell_type": "code",
   "execution_count": null,
   "metadata": {},
   "outputs": [],
   "source": []
  }
 ],
 "metadata": {
  "kernelspec": {
   "display_name": "path-rag",
   "language": "python",
   "name": "python3"
  },
  "language_info": {
   "codemirror_mode": {
    "name": "ipython",
    "version": 3
   },
   "file_extension": ".py",
   "mimetype": "text/x-python",
   "name": "python",
   "nbconvert_exporter": "python",
   "pygments_lexer": "ipython3",
   "version": "3.9.19"
  }
 },
 "nbformat": 4,
 "nbformat_minor": 2
}
