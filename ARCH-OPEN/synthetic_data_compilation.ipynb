{
 "cells": [
  {
   "cell_type": "markdown",
   "metadata": {},
   "source": [
    "### This code will compile the questions/answers from both the responses received from GPT for textbook and pubmed data"
   ]
  },
  {
   "cell_type": "code",
   "execution_count": 1,
   "metadata": {},
   "outputs": [],
   "source": [
    "import json\n",
    "import pickle\n",
    "import pandas as pd\n",
    "import re"
   ]
  },
  {
   "cell_type": "markdown",
   "metadata": {},
   "source": [
    "### Pubmed Data"
   ]
  },
  {
   "cell_type": "code",
   "execution_count": null,
   "metadata": {},
   "outputs": [],
   "source": [
    "with open('pubmed_data/llm_qa_pairs_pubmed_0_3309.pkl', 'rb') as file:\n",
    "    pubmed_data = pickle.load(file)"
   ]
  },
  {
   "cell_type": "code",
   "execution_count": 3,
   "metadata": {},
   "outputs": [
    {
     "name": "stderr",
     "output_type": "stream",
     "text": [
      "<>:7: SyntaxWarning: invalid escape sequence '\\s'\n",
      "<>:8: SyntaxWarning: invalid escape sequence '\\s'\n",
      "<>:7: SyntaxWarning: invalid escape sequence '\\s'\n",
      "<>:8: SyntaxWarning: invalid escape sequence '\\s'\n",
      "/tmp/ipykernel_2634287/1379646763.py:7: SyntaxWarning: invalid escape sequence '\\s'\n",
      "  questions = re.findall('(Question.*:[\\s\\n]*)(.+)(\\n*)', qa_pairs)\n",
      "/tmp/ipykernel_2634287/1379646763.py:8: SyntaxWarning: invalid escape sequence '\\s'\n",
      "  answers = re.findall('(Answer.*:[\\s\\n]*)(.+)(\\n*)', qa_pairs)\n"
     ]
    }
   ],
   "source": [
    "pubmed_data_list = []\n",
    "\n",
    "for index, row in pubmed_data.iterrows():\n",
    "    caption = row['caption']\n",
    "    uuid = row['uuid']\n",
    "    qa_pairs = row['llm_qa_pairs']\n",
    "    questions = re.findall('(Question.*:[\\s\\n]*)(.+)(\\n*)', qa_pairs)\n",
    "    answers = re.findall('(Answer.*:[\\s\\n]*)(.+)(\\n*)', qa_pairs)\n",
    "    assert len(questions) == 5\n",
    "    assert len(answers) == 5\n",
    "\n",
    "    data = {'caption': caption,\n",
    "            'uuid': uuid}\n",
    "    for i in range(0,5):\n",
    "        data['Question_' + str(i+1)] = questions[i][1]\n",
    "        data['Answer_' + str(i+1)] = answers[i][1]\n",
    "    \n",
    "    pubmed_data_list.append(data)"
   ]
  },
  {
   "cell_type": "code",
   "execution_count": 4,
   "metadata": {},
   "outputs": [],
   "source": [
    "with open('pubmed_qa_pairs.json', 'w') as file:\n",
    "    json.dump(pubmed_data_list, file, indent=2)"
   ]
  },
  {
   "cell_type": "markdown",
   "metadata": {},
   "source": [
    "### Textbook Data"
   ]
  },
  {
   "cell_type": "code",
   "execution_count": null,
   "metadata": {},
   "outputs": [],
   "source": [
    "with open('books_data/llm_qa_pairs_books_0_4305.pkl', 'rb') as file:\n",
    "    textbook_data = pickle.load(file)"
   ]
  },
  {
   "cell_type": "code",
   "execution_count": 6,
   "metadata": {},
   "outputs": [
    {
     "name": "stderr",
     "output_type": "stream",
     "text": [
      "<>:9: SyntaxWarning: invalid escape sequence '\\s'\n",
      "<>:10: SyntaxWarning: invalid escape sequence '\\s'\n",
      "<>:9: SyntaxWarning: invalid escape sequence '\\s'\n",
      "<>:10: SyntaxWarning: invalid escape sequence '\\s'\n",
      "/tmp/ipykernel_2634287/2596557835.py:9: SyntaxWarning: invalid escape sequence '\\s'\n",
      "  questions = re.findall('(Question.*:[\\s\\n]*)(.+)(\\n*)', qa_pairs)\n",
      "/tmp/ipykernel_2634287/2596557835.py:10: SyntaxWarning: invalid escape sequence '\\s'\n",
      "  answers = re.findall('(Answer.*:[\\s\\n]*)(.+)(\\n*)', qa_pairs)\n"
     ]
    }
   ],
   "source": [
    "textbook_data_list = []\n",
    "\n",
    "for index, row in textbook_data.iterrows():\n",
    "    figure_id = row['figure_id']\n",
    "    letter = row['letter']\n",
    "    caption = row['caption']\n",
    "    uuid = row['uuid']\n",
    "    qa_pairs = row['llm_qa_pairs_books']\n",
    "    questions = re.findall('(Question.*:[\\s\\n]*)(.+)(\\n*)', qa_pairs)\n",
    "    answers = re.findall('(Answer.*:[\\s\\n]*)(.+)(\\n*)', qa_pairs)\n",
    "    assert len(questions) == 5\n",
    "    assert len(answers) == 5\n",
    "\n",
    "    data = {'figure_id':figure_id,\n",
    "            'letter': letter,\n",
    "            'caption': caption,\n",
    "            'uuid': uuid}\n",
    "    for i in range(0,5):\n",
    "        data['Question_' + str(i+1)] = questions[i][1]\n",
    "        data['Answer_' + str(i+1)] = answers[i][1]\n",
    "    \n",
    "    textbook_data_list.append(data)"
   ]
  },
  {
   "cell_type": "code",
   "execution_count": 7,
   "metadata": {},
   "outputs": [],
   "source": [
    "with open('textbook_qa_pairs.json', 'w') as file:\n",
    "    json.dump(textbook_data_list, file, indent=2)"
   ]
  },
  {
   "cell_type": "code",
   "execution_count": null,
   "metadata": {},
   "outputs": [],
   "source": []
  }
 ],
 "metadata": {
  "kernelspec": {
   "display_name": "path-rag-dpo",
   "language": "python",
   "name": "python3"
  },
  "language_info": {
   "codemirror_mode": {
    "name": "ipython",
    "version": 3
   },
   "file_extension": ".py",
   "mimetype": "text/x-python",
   "name": "python",
   "nbconvert_exporter": "python",
   "pygments_lexer": "ipython3",
   "version": "3.12.4"
  }
 },
 "nbformat": 4,
 "nbformat_minor": 2
}
