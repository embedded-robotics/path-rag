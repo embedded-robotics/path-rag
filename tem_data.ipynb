{
 "cells": [
  {
   "cell_type": "code",
   "execution_count": null,
   "metadata": {},
   "outputs": [],
   "source": [
    "# !ln -sf /usr/lib/x86_64-linux-gnu/libffi.so.7 /data/mn27889/miniconda3/envs/path-rag/lib/libffi.so.7"
   ]
  },
  {
   "cell_type": "code",
   "execution_count": null,
   "metadata": {},
   "outputs": [],
   "source": [
    "from PIL import Image\n",
    "import numpy as np\n",
    "import os\n",
    "import pickle\n",
    "import json\n",
    "import numpy as np\n",
    "import sys\n",
    "sys.path.append(os.path.join(os.getcwd(), 'histocartography'))\n",
    "from histocartography.preprocessing import NucleiExtractor, DeepFeatureExtractor, KNNGraphBuilder"
   ]
  },
  {
   "cell_type": "code",
   "execution_count": null,
   "metadata": {},
   "outputs": [],
   "source": [
    "HISTO_PATCH_SAVE_PATH = \"histo_image_patch\"\n",
    "ACRH_DATA_PATH = \"arch\""
   ]
  },
  {
   "cell_type": "code",
   "execution_count": null,
   "metadata": {},
   "outputs": [],
   "source": [
    "# Cell Graph Generation Definitions\n",
    "nuclei_detector = NucleiExtractor()\n",
    "feats_extractor = DeepFeatureExtractor(architecture='resnet34', patch_size=72, resize_size=224)\n",
    "knn_graph_builder = KNNGraphBuilder(k=5, thresh=50, add_loc_feats=True)"
   ]
  },
  {
   "cell_type": "code",
   "execution_count": null,
   "metadata": {},
   "outputs": [],
   "source": [
    "# PathVQA Dataset Processing\n",
    "def get_arch_open_images(data_path : str = \"arch\"):\n",
    "    \n",
    "    # Extract the images for PubMed dataset\n",
    "    pubmed_path = os.path.join(data_path, \"pubmed_set\")\n",
    "    pubmed_path_captions = os.path.join(pubmed_path, \"captions.json\")\n",
    "    pubmed_path_images = os.path.join(pubmed_path, \"images\")\n",
    "    \n",
    "    with open(pubmed_path_captions, 'rb') as file:\n",
    "        pubmed_captions = json.load(file)\n",
    "    \n",
    "    # Getting all open-ended images\n",
    "    pubmed_img_uuid = [value['uuid'] for index, value in pubmed_captions.items()]\n",
    "    pubmed_img_uuid_path = [os.path.join(pubmed_path_images, img_uuid + '.jpg') for img_uuid in pubmed_img_uuid]\n",
    "\n",
    "    # Extract the images for Books dataset\n",
    "    books_path = os.path.join(data_path, \"books_set\")\n",
    "    books_path_captions = os.path.join(books_path, \"captions.json\")\n",
    "    books_path_images = os.path.join(books_path, \"images\")\n",
    "    \n",
    "    with open(books_path_captions, 'rb') as file:\n",
    "        books_captions = json.load(file)\n",
    "    \n",
    "    # Getting all open-ended images\n",
    "    books_img_uuid = [value['uuid'] for index, value in books_captions.items()]\n",
    "    books_img_uuid_path = [os.path.join(books_path_images, img_uuid + '.png') for img_uuid in books_img_uuid]\n",
    "    \n",
    "    return pubmed_img_uuid, pubmed_img_uuid_path, books_img_uuid, books_img_uuid_path"
   ]
  },
  {
   "cell_type": "code",
   "execution_count": null,
   "metadata": {},
   "outputs": [],
   "source": [
    "pubmed_img_uuid, pubmed_img_uuid_path, books_img_uuid, books_img_uuid_path = get_arch_open_images()"
   ]
  },
  {
   "cell_type": "code",
   "execution_count": null,
   "metadata": {},
   "outputs": [],
   "source": [
    "# Save top patches using histocartography\n",
    "def save_histocartography_top_patches_arch(img_uuid : list, img_uuid_path: list, books_pubmed_class: str):\n",
    "    # for image_idx in range(0, len(img_uuid)):\n",
    "    \n",
    "    for image_idx in range(0, 10):\n",
    "        print(f\"{image_idx}/{len(img_uuid)}: Started \")\n",
    "        query_img = Image.open(img_uuid_path[image_idx]).convert(mode=\"RGB\")\n",
    "        image = np.array(query_img)\n",
    "        nuclei_map, nuclei_centers = nuclei_detector.process(image)\n",
    "\n",
    "        # Only consider if more than 5 nuclei are detected since knn needs to form a graph using 5 neighbors.\n",
    "        # If less than 5 nuclei are present, most of the images are not pathology related\n",
    "        if nuclei_centers.shape[0] > 5:\n",
    "            print(f\"{image_idx}: Patches \")\n",
    "            \n",
    "            # Get the Features\n",
    "            features = feats_extractor.process(image, nuclei_map)\n",
    "            \n",
    "            # Make Cell Graph\n",
    "            cell_graph = knn_graph_builder.process(nuclei_map, features)\n",
    "            \n",
    "            # Make calculations to extract patches and the overlap images\n",
    "            width, height = query_img.size\n",
    "            width_range = np.linspace(0, width, 4, dtype=int)\n",
    "            height_range = np.linspace(0, height, 4, dtype=int)\n",
    "\n",
    "            overlap_percent = 20\n",
    "            width_overlap = int((overlap_percent/100) * width)\n",
    "            height_overlap = int((overlap_percent/100) * height)\n",
    "            \n",
    "            # Extract the patches\n",
    "            image_patches = []\n",
    "            patch_nuclei_centers = []\n",
    "            for i in range(len(width_range)-1):\n",
    "                for j in range(len(height_range)-1):\n",
    "                    # Consider the overlap width from second patch only\n",
    "                    if i != 0:\n",
    "                        start_width = width_range[i] - width_overlap\n",
    "                    else:\n",
    "                        start_width = width_range[i]\n",
    "\n",
    "                    # Consider the overlap height from second patch only\n",
    "                    if j != 0:\n",
    "                        start_height = height_range[j] - height_overlap\n",
    "                    else:\n",
    "                        start_height = height_range[j]\n",
    "                    \n",
    "                    # List out the patch ranges\n",
    "                    left = start_width\n",
    "                    upper = start_height\n",
    "                    right = width_range[i+1]\n",
    "                    lower = height_range[j+1]\n",
    "                    \n",
    "                    center_list = []\n",
    "                    for center in nuclei_centers:\n",
    "                        if ((center[0] >= left) and (center[0] <=right) and \n",
    "                            (center[1] >= upper) and (center[1] <=lower)):\n",
    "                            center_list.append(center)\n",
    "\n",
    "                    image_patches.append(query_img.crop((left, upper, right, lower)))\n",
    "                    patch_nuclei_centers.append(center_list)\n",
    "\n",
    "            # Calculate the length of nuclei in each patch\n",
    "            patch_center_length = []\n",
    "            for center in patch_nuclei_centers:\n",
    "                patch_center_length.append(len(center))\n",
    "            \n",
    "            # Sort the patch indices based on maximum number of nuclei\n",
    "            sorted_indices_desc = np.flip(np.argsort(patch_center_length))\n",
    "            \n",
    "            # Create a directory to store all the patches of the image\n",
    "            save_directory = os.path.join(os.getcwd(), HISTO_PATCH_SAVE_PATH, ACRH_DATA_PATH, books_pubmed_class, img_uuid[image_idx])\n",
    "            if not os.path.isdir(save_directory):\n",
    "                os.mkdir(save_directory)\n",
    "            \n",
    "            # Store all the image patches into the newly created directory\n",
    "            for patch_index in range(0,6):\n",
    "                save_file_path = os.path.join(save_directory, str(patch_index+1) + \".png\")\n",
    "                image_patches[sorted_indices_desc[patch_index]].save(save_file_path)\n",
    "        \n",
    "        print(f\"{image_idx}/{len(img_uuid)}: Ended \")\n",
    "        print(\".........\")"
   ]
  },
  {
   "cell_type": "code",
   "execution_count": null,
   "metadata": {},
   "outputs": [],
   "source": [
    "save_histocartography_top_patches_arch(books_img_uuid, books_img_uuid_path, \"books\")"
   ]
  },
  {
   "cell_type": "code",
   "execution_count": null,
   "metadata": {},
   "outputs": [],
   "source": []
  }
 ],
 "metadata": {
  "kernelspec": {
   "display_name": "path-rag",
   "language": "python",
   "name": "python3"
  },
  "language_info": {
   "codemirror_mode": {
    "name": "ipython",
    "version": 3
   },
   "file_extension": ".py",
   "mimetype": "text/x-python",
   "name": "python",
   "nbconvert_exporter": "python",
   "pygments_lexer": "ipython3",
   "version": "3.9.19"
  }
 },
 "nbformat": 4,
 "nbformat_minor": 2
}
